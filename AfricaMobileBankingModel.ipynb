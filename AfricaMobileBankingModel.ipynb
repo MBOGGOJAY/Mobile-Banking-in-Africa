{
 "cells": [
  {
   "cell_type": "code",
   "execution_count": 1,
   "metadata": {},
   "outputs": [],
   "source": [
    "import pandas as pd\n",
    "import numpy as np\n",
    "import datetime as dt\n",
    "from tqdm.notebook import tqdm_notebook\n",
    "import seaborn as sns\n",
    "import matplotlib.pyplot as plt\n",
    "from sklearn.metrics import f1_score\n",
    "from sklearn.model_selection import train_test_split\n",
    "import warnings\n",
    "warnings.filterwarnings('ignore')\n",
    "from catboost import CatBoostClassifier\n",
    "import xgboost as xgb"
   ]
  },
  {
   "cell_type": "code",
   "execution_count": 2,
   "metadata": {},
   "outputs": [],
   "source": [
    "train = pd.read_csv('TrainMobi.csv')\n",
    "test = pd.read_csv('TestMobi.csv')\n",
    "sub = pd.read_csv('SampleSubmission.csv')"
   ]
  },
  {
   "cell_type": "code",
   "execution_count": 3,
   "metadata": {},
   "outputs": [
    {
     "data": {
      "text/html": [
       "<div>\n",
       "<style scoped>\n",
       "    .dataframe tbody tr th:only-of-type {\n",
       "        vertical-align: middle;\n",
       "    }\n",
       "\n",
       "    .dataframe tbody tr th {\n",
       "        vertical-align: top;\n",
       "    }\n",
       "\n",
       "    .dataframe thead th {\n",
       "        text-align: right;\n",
       "    }\n",
       "</style>\n",
       "<table border=\"1\" class=\"dataframe\">\n",
       "  <thead>\n",
       "    <tr style=\"text-align: right;\">\n",
       "      <th></th>\n",
       "      <th>ID</th>\n",
       "      <th>country_code</th>\n",
       "      <th>region</th>\n",
       "      <th>age</th>\n",
       "      <th>FQ1</th>\n",
       "      <th>FQ2</th>\n",
       "      <th>FQ3</th>\n",
       "      <th>FQ4</th>\n",
       "      <th>FQ5</th>\n",
       "      <th>FQ6</th>\n",
       "      <th>...</th>\n",
       "      <th>FQ27</th>\n",
       "      <th>FQ28</th>\n",
       "      <th>FQ29</th>\n",
       "      <th>FQ30</th>\n",
       "      <th>FQ31</th>\n",
       "      <th>FQ32</th>\n",
       "      <th>FQ33</th>\n",
       "      <th>FQ34</th>\n",
       "      <th>FQ37</th>\n",
       "      <th>Target</th>\n",
       "    </tr>\n",
       "  </thead>\n",
       "  <tbody>\n",
       "    <tr>\n",
       "      <th>0</th>\n",
       "      <td>ID_000J8GTZ</td>\n",
       "      <td>1</td>\n",
       "      <td>6</td>\n",
       "      <td>35.0</td>\n",
       "      <td>2</td>\n",
       "      <td>NaN</td>\n",
       "      <td>NaN</td>\n",
       "      <td>2</td>\n",
       "      <td>NaN</td>\n",
       "      <td>NaN</td>\n",
       "      <td>...</td>\n",
       "      <td>NaN</td>\n",
       "      <td>NaN</td>\n",
       "      <td>1.0</td>\n",
       "      <td>NaN</td>\n",
       "      <td>NaN</td>\n",
       "      <td>NaN</td>\n",
       "      <td>1.0</td>\n",
       "      <td>1.0</td>\n",
       "      <td>0</td>\n",
       "      <td>0</td>\n",
       "    </tr>\n",
       "    <tr>\n",
       "      <th>1</th>\n",
       "      <td>ID_000QLXZM</td>\n",
       "      <td>32</td>\n",
       "      <td>7</td>\n",
       "      <td>70.0</td>\n",
       "      <td>2</td>\n",
       "      <td>NaN</td>\n",
       "      <td>NaN</td>\n",
       "      <td>2</td>\n",
       "      <td>NaN</td>\n",
       "      <td>NaN</td>\n",
       "      <td>...</td>\n",
       "      <td>NaN</td>\n",
       "      <td>NaN</td>\n",
       "      <td>2.0</td>\n",
       "      <td>NaN</td>\n",
       "      <td>NaN</td>\n",
       "      <td>NaN</td>\n",
       "      <td>1.0</td>\n",
       "      <td>2.0</td>\n",
       "      <td>0</td>\n",
       "      <td>0</td>\n",
       "    </tr>\n",
       "    <tr>\n",
       "      <th>2</th>\n",
       "      <td>ID_001728I2</td>\n",
       "      <td>71</td>\n",
       "      <td>7</td>\n",
       "      <td>22.0</td>\n",
       "      <td>2</td>\n",
       "      <td>1.0</td>\n",
       "      <td>NaN</td>\n",
       "      <td>2</td>\n",
       "      <td>NaN</td>\n",
       "      <td>NaN</td>\n",
       "      <td>...</td>\n",
       "      <td>NaN</td>\n",
       "      <td>NaN</td>\n",
       "      <td>2.0</td>\n",
       "      <td>NaN</td>\n",
       "      <td>NaN</td>\n",
       "      <td>NaN</td>\n",
       "      <td>2.0</td>\n",
       "      <td>1.0</td>\n",
       "      <td>1</td>\n",
       "      <td>0</td>\n",
       "    </tr>\n",
       "    <tr>\n",
       "      <th>3</th>\n",
       "      <td>ID_001R7IDN</td>\n",
       "      <td>48</td>\n",
       "      <td>3</td>\n",
       "      <td>27.0</td>\n",
       "      <td>1</td>\n",
       "      <td>NaN</td>\n",
       "      <td>NaN</td>\n",
       "      <td>2</td>\n",
       "      <td>NaN</td>\n",
       "      <td>2.0</td>\n",
       "      <td>...</td>\n",
       "      <td>NaN</td>\n",
       "      <td>NaN</td>\n",
       "      <td>NaN</td>\n",
       "      <td>NaN</td>\n",
       "      <td>NaN</td>\n",
       "      <td>2.0</td>\n",
       "      <td>1.0</td>\n",
       "      <td>1.0</td>\n",
       "      <td>1</td>\n",
       "      <td>0</td>\n",
       "    </tr>\n",
       "    <tr>\n",
       "      <th>4</th>\n",
       "      <td>ID_0029QKF8</td>\n",
       "      <td>25</td>\n",
       "      <td>0</td>\n",
       "      <td>79.0</td>\n",
       "      <td>2</td>\n",
       "      <td>NaN</td>\n",
       "      <td>NaN</td>\n",
       "      <td>2</td>\n",
       "      <td>NaN</td>\n",
       "      <td>NaN</td>\n",
       "      <td>...</td>\n",
       "      <td>NaN</td>\n",
       "      <td>NaN</td>\n",
       "      <td>2.0</td>\n",
       "      <td>NaN</td>\n",
       "      <td>NaN</td>\n",
       "      <td>2.0</td>\n",
       "      <td>1.0</td>\n",
       "      <td>1.0</td>\n",
       "      <td>1</td>\n",
       "      <td>0</td>\n",
       "    </tr>\n",
       "  </tbody>\n",
       "</table>\n",
       "<p>5 rows × 42 columns</p>\n",
       "</div>"
      ],
      "text/plain": [
       "            ID  country_code  region   age  FQ1  FQ2  FQ3  FQ4  FQ5  FQ6  ...  \\\n",
       "0  ID_000J8GTZ             1       6  35.0    2  NaN  NaN    2  NaN  NaN  ...   \n",
       "1  ID_000QLXZM            32       7  70.0    2  NaN  NaN    2  NaN  NaN  ...   \n",
       "2  ID_001728I2            71       7  22.0    2  1.0  NaN    2  NaN  NaN  ...   \n",
       "3  ID_001R7IDN            48       3  27.0    1  NaN  NaN    2  NaN  2.0  ...   \n",
       "4  ID_0029QKF8            25       0  79.0    2  NaN  NaN    2  NaN  NaN  ...   \n",
       "\n",
       "   FQ27  FQ28  FQ29  FQ30  FQ31  FQ32  FQ33  FQ34  FQ37  Target  \n",
       "0   NaN   NaN   1.0   NaN   NaN   NaN   1.0   1.0     0       0  \n",
       "1   NaN   NaN   2.0   NaN   NaN   NaN   1.0   2.0     0       0  \n",
       "2   NaN   NaN   2.0   NaN   NaN   NaN   2.0   1.0     1       0  \n",
       "3   NaN   NaN   NaN   NaN   NaN   2.0   1.0   1.0     1       0  \n",
       "4   NaN   NaN   2.0   NaN   NaN   2.0   1.0   1.0     1       0  \n",
       "\n",
       "[5 rows x 42 columns]"
      ]
     },
     "execution_count": 3,
     "metadata": {},
     "output_type": "execute_result"
    }
   ],
   "source": [
    "train.head()"
   ]
  },
  {
   "cell_type": "code",
   "execution_count": 4,
   "metadata": {},
   "outputs": [
    {
     "data": {
      "text/plain": [
       "(46477, 41)"
      ]
     },
     "execution_count": 4,
     "metadata": {},
     "output_type": "execute_result"
    }
   ],
   "source": [
    "test.shape"
   ]
  },
  {
   "cell_type": "code",
   "execution_count": null,
   "metadata": {},
   "outputs": [],
   "source": [
    "train.isnull().sum()/len(train) *100"
   ]
  },
  {
   "cell_type": "code",
   "execution_count": 6,
   "metadata": {},
   "outputs": [],
   "source": [
    "train = train.drop(['FQ5','FQ17','FQ24','FQ35','FQ36','FQ27','FQ28','FQ29','FQ30','FQ31'], axis=1)\n",
    "test = test.drop(['FQ5','FQ17','FQ24','FQ35','FQ36','FQ27','FQ28','FQ29','FQ30','FQ31'], axis=1)"
   ]
  },
  {
   "cell_type": "code",
   "execution_count": null,
   "metadata": {},
   "outputs": [],
   "source": [
    "train.isnull().sum()"
   ]
  },
  {
   "cell_type": "code",
   "execution_count": null,
   "metadata": {},
   "outputs": [],
   "source": [
    "test.isnull().sum()"
   ]
  },
  {
   "cell_type": "code",
   "execution_count": null,
   "metadata": {},
   "outputs": [],
   "source": [
    "train.isnull().sum()/len(train) *100"
   ]
  },
  {
   "cell_type": "code",
   "execution_count": 10,
   "metadata": {},
   "outputs": [
    {
     "name": "stdout",
     "output_type": "stream",
     "text": [
      "The shape of the combined dataframe is: (154923, 32)\n"
     ]
    }
   ],
   "source": [
    "ntrain = train.shape[0] # to be used to split train and test set from the combined dataframe\n",
    "\n",
    "full_data = pd.concat((train, test)).reset_index(drop=True)\n",
    "print(f'The shape of the combined dataframe is: {full_data.shape}')"
   ]
  },
  {
   "cell_type": "code",
   "execution_count": null,
   "metadata": {},
   "outputs": [],
   "source": [
    "full_data.isnull().sum()\n"
   ]
  },
  {
   "cell_type": "code",
   "execution_count": 12,
   "metadata": {},
   "outputs": [],
   "source": [
    "def ProcessDataForModelling(data):\n",
    "        #Fill up missing non-numeric data with categorical data\n",
    "        for label, content in data.items():\n",
    "            if not pd.api.types.is_float_dtype(content):\n",
    "                if pd.isnull(content).sum():\n",
    "                    data[col] = data[col].fillna(data[col].mode()[0])\n",
    "\n",
    "        #Fill up missing numeric data with median\n",
    "        for label, content in data.items():\n",
    "            if pd.api.types.is_float_dtype(content):\n",
    "                if pd.isnull(content).sum():\n",
    "                    data[label] = content.fillna(content.median())"
   ]
  },
  {
   "cell_type": "code",
   "execution_count": 13,
   "metadata": {},
   "outputs": [],
   "source": [
    "ProcessDataForModelling(full_data)"
   ]
  },
  {
   "cell_type": "code",
   "execution_count": 14,
   "metadata": {},
   "outputs": [
    {
     "data": {
      "text/plain": [
       "((108446, 32), (46477, 32))"
      ]
     },
     "execution_count": 14,
     "metadata": {},
     "output_type": "execute_result"
    }
   ],
   "source": [
    "# Separate train and test data from the combined dataframe\n",
    "train_df = full_data[:ntrain]\n",
    "test_df = full_data[ntrain:]\n",
    "\n",
    "\n",
    "# Check the shapes of the split dataset\n",
    "train_df.shape, test_df.shape"
   ]
  },
  {
   "cell_type": "code",
   "execution_count": 15,
   "metadata": {},
   "outputs": [],
   "source": [
    "main_cols = train.columns.difference(['ID', 'Target'])\n",
    "X = train_df[main_cols]\n",
    "y = train_df.Target"
   ]
  },
  {
   "cell_type": "code",
   "execution_count": 16,
   "metadata": {},
   "outputs": [],
   "source": [
    "# Split data into train and test sets\n",
    "X_train, X_test, y_train, y_test = train_test_split(X,y,test_size=0.27, random_state=42)"
   ]
  },
  {
   "cell_type": "code",
   "execution_count": 17,
   "metadata": {},
   "outputs": [
    {
     "data": {
      "text/plain": [
       "((79165, 30), (29281, 30), (79165,), (29281,))"
      ]
     },
     "execution_count": 17,
     "metadata": {},
     "output_type": "execute_result"
    }
   ],
   "source": [
    "X_train.shape , X_test.shape , y_train.shape , y_test.shape"
   ]
  },
  {
   "cell_type": "code",
   "execution_count": 18,
   "metadata": {},
   "outputs": [],
   "source": [
    "data_dmatrix = xgb.DMatrix(data=X_train,label=y_train)"
   ]
  },
  {
   "cell_type": "code",
   "execution_count": 19,
   "metadata": {},
   "outputs": [],
   "source": [
    "MobiBankModel = xgb.XGBClassifier(learning_rate=0.3,\n",
    "                                 n_estimators=1350,\n",
    "                                 max_depth=14,\n",
    "                                 min_child_weight=5,\n",
    "                                 gamma=0,\n",
    "                                 subsample=0.9,\n",
    "                                 colsample_bytree=0.9,\n",
    "                                 objective= 'binary:logistic',\n",
    "                                 nthread=4,\n",
    "                                 scale_pos_weight=2,\n",
    "                                 seed=42)"
   ]
  },
  {
   "cell_type": "code",
   "execution_count": null,
   "metadata": {},
   "outputs": [],
   "source": [
    "MobiBankModel = MobiBankModel.fit(X, y)"
   ]
  },
  {
   "cell_type": "code",
   "execution_count": 21,
   "metadata": {},
   "outputs": [],
   "source": [
    "X_TestPreds = MobiBankModel.predict_proba(X_test)"
   ]
  },
  {
   "cell_type": "code",
   "execution_count": 22,
   "metadata": {},
   "outputs": [
    {
     "name": "stdout",
     "output_type": "stream",
     "text": [
      "100.0\n"
     ]
    }
   ],
   "source": [
    "from sklearn.metrics import accuracy_score\n",
    "score = accuracy_score(y_test, X_TestPreds )\n",
    "print(score*100)"
   ]
  },
  {
   "cell_type": "code",
   "execution_count": 334,
   "metadata": {},
   "outputs": [],
   "source": [
    "#Measure the F1 Scores\n",
    "from sklearn.metrics import f1_score\n",
    "F1_macro = f1_score(y_test, X_TestPreds, average='macro')\n",
    "F1_micro= f1_score(y_test, X_TestPreds, average='micro')\n",
    "F1_weighted = f1_score(y_test, X_TestPreds, average='weighted')\n",
    "F1_None = f1_score(y_test, X_TestPreds, average=None)"
   ]
  },
  {
   "cell_type": "code",
   "execution_count": 335,
   "metadata": {},
   "outputs": [
    {
     "name": "stdout",
     "output_type": "stream",
     "text": [
      "100.0\n",
      "100.0\n",
      "100.0\n",
      "[100. 100.]\n"
     ]
    }
   ],
   "source": [
    "print(F1_macro*100)\n",
    "print(F1_micro*100)\n",
    "print(F1_weighted*100)\n",
    "print(F1_None*100)"
   ]
  },
  {
   "cell_type": "code",
   "execution_count": 336,
   "metadata": {},
   "outputs": [
    {
     "name": "stdout",
     "output_type": "stream",
     "text": [
      "Recall: 1.000\n"
     ]
    }
   ],
   "source": [
    "from sklearn.metrics import recall_score\n",
    "# calculate recall\n",
    "recall = recall_score(y_test, X_TestPreds, average='binary')\n",
    "print('Recall: %.3f' % recall)"
   ]
  },
  {
   "cell_type": "code",
   "execution_count": 337,
   "metadata": {},
   "outputs": [
    {
     "name": "stdout",
     "output_type": "stream",
     "text": [
      "Precision: 1.000\n"
     ]
    }
   ],
   "source": [
    "from sklearn.metrics import precision_score\n",
    "# calculate prediction\n",
    "precision = precision_score(y_test, X_TestPreds, average='binary')\n",
    "print('Precision: %.3f' % precision)"
   ]
  },
  {
   "cell_type": "code",
   "execution_count": 338,
   "metadata": {},
   "outputs": [],
   "source": [
    "from sklearn.dummy import DummyClassifier\n",
    "from sklearn.metrics import accuracy_score, f1_score, confusion_matrix, recall_score"
   ]
  },
  {
   "cell_type": "code",
   "execution_count": 339,
   "metadata": {},
   "outputs": [
    {
     "data": {
      "text/html": [
       "<div>\n",
       "<style scoped>\n",
       "    .dataframe tbody tr th:only-of-type {\n",
       "        vertical-align: middle;\n",
       "    }\n",
       "\n",
       "    .dataframe tbody tr th {\n",
       "        vertical-align: top;\n",
       "    }\n",
       "\n",
       "    .dataframe thead th {\n",
       "        text-align: right;\n",
       "    }\n",
       "</style>\n",
       "<table border=\"1\" class=\"dataframe\">\n",
       "  <thead>\n",
       "    <tr style=\"text-align: right;\">\n",
       "      <th></th>\n",
       "      <th>0</th>\n",
       "      <th>1</th>\n",
       "    </tr>\n",
       "  </thead>\n",
       "  <tbody>\n",
       "    <tr>\n",
       "      <th>0</th>\n",
       "      <td>21039</td>\n",
       "      <td>0</td>\n",
       "    </tr>\n",
       "    <tr>\n",
       "      <th>1</th>\n",
       "      <td>0</td>\n",
       "      <td>8242</td>\n",
       "    </tr>\n",
       "  </tbody>\n",
       "</table>\n",
       "</div>"
      ],
      "text/plain": [
       "       0     1\n",
       "0  21039     0\n",
       "1      0  8242"
      ]
     },
     "execution_count": 339,
     "metadata": {},
     "output_type": "execute_result"
    }
   ],
   "source": [
    "pd.DataFrame(confusion_matrix(y_test, X_TestPreds))"
   ]
  },
  {
   "cell_type": "code",
   "execution_count": 340,
   "metadata": {},
   "outputs": [],
   "source": [
    "test_df = test_df[main_cols]"
   ]
  },
  {
   "cell_type": "code",
   "execution_count": 341,
   "metadata": {},
   "outputs": [],
   "source": [
    "#test_df = test_df.loc[:, test_df.columns != ['ID','Target']]\n",
    "#df.loc[:, df.columns != 'b']"
   ]
  },
  {
   "cell_type": "code",
   "execution_count": 342,
   "metadata": {},
   "outputs": [
    {
     "data": {
      "text/plain": [
       "((46477, 30), (46477, 31))"
      ]
     },
     "execution_count": 342,
     "metadata": {},
     "output_type": "execute_result"
    }
   ],
   "source": [
    "test_df.shape,test.shape"
   ]
  },
  {
   "cell_type": "code",
   "execution_count": 343,
   "metadata": {},
   "outputs": [],
   "source": [
    "MobiBankPreds = MobiBankModel.predict(test_df)\n"
   ]
  },
  {
   "cell_type": "code",
   "execution_count": 344,
   "metadata": {},
   "outputs": [
    {
     "data": {
      "text/plain": [
       "(46477, 31)"
      ]
     },
     "execution_count": 344,
     "metadata": {},
     "output_type": "execute_result"
    }
   ],
   "source": [
    "test.shape"
   ]
  },
  {
   "cell_type": "code",
   "execution_count": 345,
   "metadata": {},
   "outputs": [
    {
     "data": {
      "text/plain": [
       "46477"
      ]
     },
     "execution_count": 345,
     "metadata": {},
     "output_type": "execute_result"
    }
   ],
   "source": [
    "len(MobiBankPreds)"
   ]
  },
  {
   "cell_type": "code",
   "execution_count": 346,
   "metadata": {},
   "outputs": [],
   "source": [
    "MobiBankPreds = pd.DataFrame({'ID':test['ID'],'target': MobiBankPreds})"
   ]
  },
  {
   "cell_type": "code",
   "execution_count": 347,
   "metadata": {},
   "outputs": [],
   "source": [
    "MobiBankPreds.to_csv(\"MobiBankPreds13.csv\", index=False)"
   ]
  }
 ],
 "metadata": {
  "kernelspec": {
   "display_name": "Python 3 (ipykernel)",
   "language": "python",
   "name": "python3"
  },
  "language_info": {
   "codemirror_mode": {
    "name": "ipython",
    "version": 3
   },
   "file_extension": ".py",
   "mimetype": "text/x-python",
   "name": "python",
   "nbconvert_exporter": "python",
   "pygments_lexer": "ipython3",
   "version": "3.9.13"
  }
 },
 "nbformat": 4,
 "nbformat_minor": 4
}
